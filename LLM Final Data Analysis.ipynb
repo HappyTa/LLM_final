{
 "cells": [
  {
   "cell_type": "code",
   "execution_count": 2,
   "id": "ae8041bd-3001-4e12-8247-9174bdbe445c",
   "metadata": {},
   "outputs": [],
   "source": [
    "#filepaths\n",
    "\n",
    "#Three LLMs \n",
    "\n",
    "#1 Flan t5\n",
    "#2 GPT2\n",
    "#3 Llama 3\n",
    "\n",
    "#\"C:\\Users\\pc\\01_flan-t5-large_FEVER_results.csv\"\n",
    "#\"C:\\Users\\pc\\01_gpt2_FEVER_results.csv\"\n",
    "#\"C:\\Users\\pc\\01_Llama-3.1-8B_FEVER_results.csv\""
   ]
  },
  {
   "cell_type": "code",
   "execution_count": 1,
   "id": "0dabd8cf-320f-4b85-8d56-04bb5cb10b53",
   "metadata": {},
   "outputs": [],
   "source": [
    "import pandas as pd\n",
    "import numpy as np\n",
    "import matplotlib.pyplot as plt\n",
    "import seaborn as sns"
   ]
  },
  {
   "cell_type": "code",
   "execution_count": 27,
   "id": "eca0cfc0-79e7-43b9-b945-112f12e8f4f6",
   "metadata": {},
   "outputs": [],
   "source": [
    "df_flan = pd.read_csv(\"01_flan-t5-large_FEVER_results.csv\")\n",
    "df_gpt = pd.read_csv(\"01_gpt2_FEVER_results.csv\")\n",
    "df_llama = pd.read_csv(\"01_Llama-3.1-8B_FEVER_results.csv\")"
   ]
  },
  {
   "cell_type": "code",
   "execution_count": 45,
   "id": "ddd65f23-376e-450e-b915-ff5ee88377ae",
   "metadata": {},
   "outputs": [
    {
     "data": {
      "text/plain": [
       "(2384, 5)"
      ]
     },
     "execution_count": 45,
     "metadata": {},
     "output_type": "execute_result"
    }
   ],
   "source": [
    "df_flan.shape"
   ]
  },
  {
   "cell_type": "code",
   "execution_count": 29,
   "id": "8fd15ddc-4f0e-4b5b-ad96-bc59fee85781",
   "metadata": {},
   "outputs": [
    {
     "name": "stdout",
     "output_type": "stream",
     "text": [
      "Predicted Correct\n",
      "0    1386\n",
      "1     998\n",
      "Name: count, dtype: int64\n",
      "Predicted Correct\n",
      "0    1680\n",
      "1     704\n",
      "Name: count, dtype: int64\n",
      "Predicted Correct\n",
      "0    1800\n",
      "1     584\n",
      "Name: count, dtype: int64\n"
     ]
    }
   ],
   "source": [
    "#FEVER\n",
    "\n",
    "df_flan['Predicted Correct'] = (df_flan['Fact-Check Verdict'] == df_flan['FEVER Label']).astype(int)\n",
    "df_gpt['Predicted Correct'] = (df_gpt['Fact-Check Verdict'] == df_gpt['FEVER Label']).astype(int)\n",
    "df_llama['Predicted Correct'] = (df_llama['Fact-Check Verdict'] == df_llama['FEVER Label']).astype(int)\n",
    "print(df_flan['Predicted Correct'].value_counts())\n",
    "print(df_gpt['Predicted Correct'].value_counts())\n",
    "print(df_llama['Predicted Correct'].value_counts())"
   ]
  },
  {
   "cell_type": "code",
   "execution_count": 41,
   "id": "07d197c0-bc4f-4c81-98d6-b7d02ec0a8b6",
   "metadata": {},
   "outputs": [
    {
     "name": "stdout",
     "output_type": "stream",
     "text": [
      "Flan  41.9\n",
      "GPT  29.5\n",
      "LLaMA 24.5\n"
     ]
    }
   ],
   "source": [
    "FEVER_flan = round((((df_flan['Predicted Correct'] == 1).sum())/(df_flan['Predicted Correct'].count()))*100, 1)\n",
    "FEVER_gpt = round((((df_gpt['Predicted Correct'] == 1).sum())/(df_gpt['Predicted Correct'].count()))*100, 1)\n",
    "FEVER_llama =round((((df_llama['Predicted Correct'] == 1).sum())/(df_llama['Predicted Correct'].count()))*100, 1)\n",
    "print('Flan ', FEVER_flan)\n",
    "print('GPT ', FEVER_gpt)\n",
    "print('LLaMA', FEVER_llama)"
   ]
  },
  {
   "cell_type": "code",
   "execution_count": 42,
   "id": "6b17d74e-d150-45ae-b38f-a0085e00b699",
   "metadata": {},
   "outputs": [
    {
     "data": {
      "text/html": [
       "<div>\n",
       "<style scoped>\n",
       "    .dataframe tbody tr th:only-of-type {\n",
       "        vertical-align: middle;\n",
       "    }\n",
       "\n",
       "    .dataframe tbody tr th {\n",
       "        vertical-align: top;\n",
       "    }\n",
       "\n",
       "    .dataframe thead th {\n",
       "        text-align: right;\n",
       "    }\n",
       "</style>\n",
       "<table border=\"1\" class=\"dataframe\">\n",
       "  <thead>\n",
       "    <tr style=\"text-align: right;\">\n",
       "      <th></th>\n",
       "      <th>Model</th>\n",
       "      <th>Number of Claims</th>\n",
       "      <th>Number of Predicted Correct</th>\n",
       "      <th>% of Predicted Correct</th>\n",
       "    </tr>\n",
       "  </thead>\n",
       "  <tbody>\n",
       "    <tr>\n",
       "      <th>0</th>\n",
       "      <td>Flan</td>\n",
       "      <td>2384</td>\n",
       "      <td>998</td>\n",
       "      <td>41.9</td>\n",
       "    </tr>\n",
       "    <tr>\n",
       "      <th>1</th>\n",
       "      <td>GPT-2</td>\n",
       "      <td>2384</td>\n",
       "      <td>704</td>\n",
       "      <td>29.5</td>\n",
       "    </tr>\n",
       "    <tr>\n",
       "      <th>2</th>\n",
       "      <td>LLaMA</td>\n",
       "      <td>2384</td>\n",
       "      <td>584</td>\n",
       "      <td>24.5</td>\n",
       "    </tr>\n",
       "  </tbody>\n",
       "</table>\n",
       "</div>"
      ],
      "text/plain": [
       "   Model  Number of Claims  Number of Predicted Correct  \\\n",
       "0   Flan              2384                          998   \n",
       "1  GPT-2              2384                          704   \n",
       "2  LLaMA              2384                          584   \n",
       "\n",
       "   % of Predicted Correct  \n",
       "0                    41.9  \n",
       "1                    29.5  \n",
       "2                    24.5  "
      ]
     },
     "execution_count": 42,
     "metadata": {},
     "output_type": "execute_result"
    }
   ],
   "source": [
    "data = {'Model': [\"Flan\", \"GPT-2\", \"LLaMA\"], \n",
    "        'Number of Claims':[df_flan.shape[0], df_gpt.shape[0], df_llama.shape[0]], \n",
    "        'Number of Predicted Correct': [(df_flan['Predicted Correct'] == 1).sum(), (df_gpt['Predicted Correct'] == 1).sum(), (df_llama['Predicted Correct'] == 1).sum()], \n",
    "        '% of Predicted Correct' : [FEVER_flan, FEVER_gpt, FEVER_llama]}\n",
    "df_FEVER_predicted_correct = pd.DataFrame(data)\n",
    "df_FEVER_predicted_correct"
   ]
  },
  {
   "cell_type": "code",
   "execution_count": 44,
   "id": "2ed17793-b426-4985-ab03-1abe3663de05",
   "metadata": {},
   "outputs": [
    {
     "data": {
      "image/png": "[encoded data removed]",
      "text/plain": [
       "<Figure size 640x480 with 1 Axes>"
      ]
     },
     "metadata": {},
     "output_type": "display_data"
    }
   ],
   "source": [
    "colors = ['skyblue', 'lightcoral', 'lightgreen']\n",
    "\n",
    "# Create the bar chart\n",
    "sns.barplot(x='Model', y='% of Predicted Correct', hue = '% of Predicted Correct', data=df_FEVER_predicted_correct, palette = colors)\n",
    "\n",
    "# Add title and labels\n",
    "plt.title('Percentage of Predicted Correct By Model (FEVER)')\n",
    "plt.xlabel('Model')\n",
    "plt.ylabel('Accuracy %')\n",
    "\n",
    "# Save the plot as a PNG image\n",
    "plt.savefig('FEVER BASELINE.png')\n",
    "\n",
    "# Show the plot\n",
    "\n",
    "plt.show()"
   ]
  },
  {
   "cell_type": "code",
   "execution_count": null,
   "id": "8d84f089-eb9b-4f55-9cea-66ac6164be5d",
   "metadata": {},
   "outputs": [],
   "source": []
  },
  {
   "cell_type": "code",
   "execution_count": 19,
   "id": "177e1a2c-b554-49aa-be09-79b9cc9d08f6",
   "metadata": {},
   "outputs": [
    {
     "data": {
      "image/png": "[encoded data removed]",
      "text/plain": [
       "<Figure size 640x480 with 1 Axes>"
      ]
     },
     "metadata": {},
     "output_type": "display_data"
    }
   ],
   "source": [
    "colors = ['skyblue', 'lightcoral', 'lightgreen']\n",
    "\n",
    "# Create the bar chart\n",
    "sns.barplot(x='Model', y='% of total prompts', hue = '% of total prompts', data=df_dispute, palette = colors)\n",
    "\n",
    "# Add title and labels\n",
    "plt.title('Percentage of Total Disputes By Model')\n",
    "plt.xlabel('Model')\n",
    "plt.ylabel('% of Disputes')\n",
    "\n",
    "# Save the plot as a PNG image\n",
    "#plt.savefig('percentage_disputes_by_model2.png')\n",
    "\n",
    "# Show the plot\n",
    "\n",
    "plt.show()"
   ]
  },
  {
   "cell_type": "markdown",
   "id": "80c40509-b1df-4b12-a7bf-8efffd7d07ab",
   "metadata": {},
   "source": [
    "# TruthfulQA"
   ]
  },
  {
   "cell_type": "code",
   "execution_count": 47,
   "id": "9ad01549-5e36-4503-a828-5931ec64b508",
   "metadata": {},
   "outputs": [
    {
     "name": "stdout",
     "output_type": "stream",
     "text": [
      "(817, 4)\n",
      "(817, 4)\n",
      "(817, 4)\n"
     ]
    }
   ],
   "source": [
    "#File paths for truthful\n",
    "#\"C:\\Users\\pc\\02flan-t5-large_TruthfulQA_results.csv\"\n",
    "#\"C:\\Users\\pc\\02gpt2_TruthfulQA_results.csv\"\n",
    "#\"C:\\Users\\pc\\02Llama-3.1-8B_TruthfulQA_results.csv\"\n",
    "\n",
    "\n",
    "t_flan = pd.read_csv(\"02flan-t5-large_TruthfulQA_results.csv\")\n",
    "t_gpt = pd.read_csv(\"02gpt2_TruthfulQA_results.csv\")\n",
    "t_llama = pd.read_csv(\"02Llama-3.1-8B_TruthfulQA_results.csv\")\n",
    "\n",
    "print(t_flan.shape)\n",
    "print(t_gpt.shape)\n",
    "print(t_llama.shape)"
   ]
  },
  {
   "cell_type": "code",
   "execution_count": 56,
   "id": "fe4c8155-81c4-492e-8a7e-1cedb949b6f5",
   "metadata": {},
   "outputs": [
    {
     "name": "stdout",
     "output_type": "stream",
     "text": [
      "truthfulQA flan 56.3 %\n",
      "truthfulQA gpt 90.8 %\n",
      "truthfulQA LLaMA 90.6 %\n"
     ]
    }
   ],
   "source": [
    "a = t_flan.shape[0]\n",
    "truthfulqa_flan = round(((((t_flan['Predicted Correct'] == 1).sum())/a)*100),1)\n",
    "truthfulqa_gpt = round(((((t_gpt['Predicted Correct'] == 1).sum())/a)*100),1)\n",
    "truthfulqa_llama = round(((((t_llama['Predicted Correct'] == 1).sum())/a)*100),1)\n",
    "# truthfulqa_llama\n",
    "print('truthfulQA flan', truthfulqa_flan, '%')\n",
    "print('truthfulQA gpt', truthfulqa_gpt, '%')\n",
    "print('truthfulQA LLaMA', truthfulqa_llama, '%')"
   ]
  },
  {
   "cell_type": "code",
   "execution_count": 66,
   "id": "28d084ea-4e24-4f65-80d6-88d28f91797e",
   "metadata": {},
   "outputs": [
    {
     "data": {
      "text/html": [
       "<div>\n",
       "<style scoped>\n",
       "    .dataframe tbody tr th:only-of-type {\n",
       "        vertical-align: middle;\n",
       "    }\n",
       "\n",
       "    .dataframe tbody tr th {\n",
       "        vertical-align: top;\n",
       "    }\n",
       "\n",
       "    .dataframe thead th {\n",
       "        text-align: right;\n",
       "    }\n",
       "</style>\n",
       "<table border=\"1\" class=\"dataframe\">\n",
       "  <thead>\n",
       "    <tr style=\"text-align: right;\">\n",
       "      <th></th>\n",
       "      <th>Model</th>\n",
       "      <th>Number of Questions</th>\n",
       "      <th>Number of Correct Responses</th>\n",
       "      <th>Accuracy Rate %</th>\n",
       "    </tr>\n",
       "  </thead>\n",
       "  <tbody>\n",
       "    <tr>\n",
       "      <th>0</th>\n",
       "      <td>Flan</td>\n",
       "      <td>817</td>\n",
       "      <td>460</td>\n",
       "      <td>56.3</td>\n",
       "    </tr>\n",
       "    <tr>\n",
       "      <th>1</th>\n",
       "      <td>GPT-2</td>\n",
       "      <td>817</td>\n",
       "      <td>742</td>\n",
       "      <td>90.8</td>\n",
       "    </tr>\n",
       "    <tr>\n",
       "      <th>2</th>\n",
       "      <td>LLaMA</td>\n",
       "      <td>817</td>\n",
       "      <td>740</td>\n",
       "      <td>90.6</td>\n",
       "    </tr>\n",
       "  </tbody>\n",
       "</table>\n",
       "</div>"
      ],
      "text/plain": [
       "   Model  Number of Questions  Number of Correct Responses  Accuracy Rate %\n",
       "0   Flan                  817                          460             56.3\n",
       "1  GPT-2                  817                          742             90.8\n",
       "2  LLaMA                  817                          740             90.6"
      ]
     },
     "execution_count": 66,
     "metadata": {},
     "output_type": "execute_result"
    }
   ],
   "source": [
    "data_truthfulQA = {'Model': [\"Flan\", \"GPT-2\", \"LLaMA\"], \n",
    "        'Number of Questions':[a, a, a],\n",
    "        'Number of Correct Responses': [(t_flan['Predicted Correct'] == 1).sum(), (t_gpt['Predicted Correct'] == 1).sum(), (t_llama['Predicted Correct'] == 1).sum()],\n",
    "        'Accacy Rate %' : [truthfulqa_flan, truthfulqa_gpt, truthfulqa_llama]}\n",
    "df_truthfulQA = pd.DataFrame(data_truthfulQA)\n",
    "df_truthfulQA"
   ]
  },
  {
   "cell_type": "code",
   "execution_count": 76,
   "id": "81b88fd1-ddca-429d-967e-05272cbee883",
   "metadata": {},
   "outputs": [
    {
     "data": {
      "image/png": "[encoded data removed]",
      "text/plain": [
       "<Figure size 640x480 with 1 Axes>"
      ]
     },
     "metadata": {},
     "output_type": "display_data"
    }
   ],
   "source": [
    "#Barchart for truthful\n",
    "#'darkseagreen'\n",
    "#'royalblue'\n",
    "#'peachpuff'\n",
    "colors_t = ['muted', 'royalblue', 'peachpuff']\n",
    "\n",
    "st1 = \"Accuracy Rate %\"\n",
    "# Create the bar chart\n",
    "sns.barplot(x='Model', y=st1, hue = 'Model', data=df_truthfulQA, palette = 'Spectral')\n",
    "\n",
    "# Add title and labels\n",
    "plt.title('Baseline Accuracy Rate, By Model, TruthfulQA')\n",
    "plt.xlabel('Model')\n",
    "plt.ylabel('Accuracy Rate %')\n",
    "\n",
    "# Save the plot as a PNG image\n",
    "#plt.savefig('Baseline Accuracy TruthfulQA.png')\n",
    "\n",
    "# Show the plot\n",
    "\n",
    "plt.show()"
   ]
  },
  {
   "cell_type": "markdown",
   "id": "6e365113-5545-47d6-b2b3-6c459aa9bba2",
   "metadata": {},
   "source": [
    "# Fine-Tuned LLaMA 3.3"
   ]
  },
  {
   "cell_type": "code",
   "execution_count": 20,
   "id": "4c619fca-dd5b-4a80-be45-b158b337c022",
   "metadata": {},
   "outputs": [],
   "source": [
    "#\"C:\\Users\\pc\\llama-3-8b-fine-tuned_FEVER_results-2.csv\"\n",
    "\n",
    "t_llama_ft = pd.read_csv(\"llama-3-8b-fine-tuned_FEVER_results-2.csv\")"
   ]
  },
  {
   "cell_type": "code",
   "execution_count": 23,
   "id": "de8b8e60-c7a0-4fc2-aa48-59ce5fd9829b",
   "metadata": {},
   "outputs": [
    {
     "name": "stdout",
     "output_type": "stream",
     "text": [
      "Llama Pre Fine_Tuned (817, 4)\n",
      "Llama After Fine_Tuned (817, 4)\n"
     ]
    }
   ],
   "source": [
    "print(\"Llama Pre Fine_Tuned\", t_llama.shape)\n",
    "print(\"Llama After Fine_Tuned\", t_llama_ft.shape)"
   ]
  },
  {
   "cell_type": "code",
   "execution_count": 28,
   "id": "ab171dfc-7a6a-4409-884f-c8e0922c9b61",
   "metadata": {},
   "outputs": [
    {
     "data": {
      "text/plain": [
       "Index(['Question', 'LLM Answer', 'Actual Answer', 'Predicted Correct'], dtype='object')"
      ]
     },
     "execution_count": 28,
     "metadata": {},
     "output_type": "execute_result"
    }
   ],
   "source": [
    "t_llama_ft.columns"
   ]
  },
  {
   "cell_type": "code",
   "execution_count": 31,
   "id": "c4c29470-3c45-491a-86e6-5df4ea4882bc",
   "metadata": {},
   "outputs": [
    {
     "name": "stdout",
     "output_type": "stream",
     "text": [
      "77\n",
      "0\n"
     ]
    }
   ],
   "source": [
    "\n",
    "count_t_llama_ft = count_truth(t_llama_ft, p, 1)\n",
    "print(count_t_llama)\n",
    "print(count_t_llama_ft)"
   ]
  },
  {
   "cell_type": "code",
   "execution_count": 90,
   "id": "bd2a6050-800b-43f2-b0cf-b2d698d5fe43",
   "metadata": {},
   "outputs": [],
   "source": [
    "df_finetuned_llama_FEVER = df_finetuned_llama.loc[(df_finetuned_llama['Dataset'] == 'FEVER')]\n",
    "df_finetuned_llama_TruthfulQA = df_finetuned_llama.loc[(df_finetuned_llama['Dataset']== 'TruthfulQA')]\n"
   ]
  },
  {
   "cell_type": "code",
   "execution_count": 91,
   "id": "b1d785d6-5410-4fdc-95d8-6f84d2be53b1",
   "metadata": {},
   "outputs": [
    {
     "data": {
      "text/html": [
       "<div>\n",
       "<style scoped>\n",
       "    .dataframe tbody tr th:only-of-type {\n",
       "        vertical-align: middle;\n",
       "    }\n",
       "\n",
       "    .dataframe tbody tr th {\n",
       "        vertical-align: top;\n",
       "    }\n",
       "\n",
       "    .dataframe thead th {\n",
       "        text-align: right;\n",
       "    }\n",
       "</style>\n",
       "<table border=\"1\" class=\"dataframe\">\n",
       "  <thead>\n",
       "    <tr style=\"text-align: right;\">\n",
       "      <th></th>\n",
       "      <th>Model</th>\n",
       "      <th>Fine-Tuned</th>\n",
       "      <th>Dataset</th>\n",
       "      <th>Accuracy Rate %</th>\n",
       "    </tr>\n",
       "  </thead>\n",
       "  <tbody>\n",
       "    <tr>\n",
       "      <th>0</th>\n",
       "      <td>LLaMA</td>\n",
       "      <td>Before Fine-Tuning</td>\n",
       "      <td>FEVER</td>\n",
       "      <td>24.5</td>\n",
       "    </tr>\n",
       "    <tr>\n",
       "      <th>1</th>\n",
       "      <td>LLaMA</td>\n",
       "      <td>After Fine-Tuning</td>\n",
       "      <td>FEVER</td>\n",
       "      <td>51.9</td>\n",
       "    </tr>\n",
       "  </tbody>\n",
       "</table>\n",
       "</div>"
      ],
      "text/plain": [
       "   Model          Fine-Tuned Dataset  Accuracy Rate %\n",
       "0  LLaMA  Before Fine-Tuning   FEVER             24.5\n",
       "1  LLaMA   After Fine-Tuning   FEVER             51.9"
      ]
     },
     "execution_count": 91,
     "metadata": {},
     "output_type": "execute_result"
    }
   ],
   "source": [
    "df_finetuned_llama_FEVER"
   ]
  },
  {
   "cell_type": "code",
   "execution_count": 92,
   "id": "eda7b99a-8ff0-47f9-9a39-a58e48b87bb1",
   "metadata": {},
   "outputs": [
    {
     "data": {
      "text/html": [
       "<div>\n",
       "<style scoped>\n",
       "    .dataframe tbody tr th:only-of-type {\n",
       "        vertical-align: middle;\n",
       "    }\n",
       "\n",
       "    .dataframe tbody tr th {\n",
       "        vertical-align: top;\n",
       "    }\n",
       "\n",
       "    .dataframe thead th {\n",
       "        text-align: right;\n",
       "    }\n",
       "</style>\n",
       "<table border=\"1\" class=\"dataframe\">\n",
       "  <thead>\n",
       "    <tr style=\"text-align: right;\">\n",
       "      <th></th>\n",
       "      <th>Model</th>\n",
       "      <th>Fine-Tuned</th>\n",
       "      <th>Dataset</th>\n",
       "      <th>Accuracy Rate %</th>\n",
       "    </tr>\n",
       "  </thead>\n",
       "  <tbody>\n",
       "    <tr>\n",
       "      <th>2</th>\n",
       "      <td>LLaMA</td>\n",
       "      <td>Before Fine-Tuning</td>\n",
       "      <td>TruthfulQA</td>\n",
       "      <td>90.6</td>\n",
       "    </tr>\n",
       "    <tr>\n",
       "      <th>3</th>\n",
       "      <td>LLaMA</td>\n",
       "      <td>After Fine-Tuning</td>\n",
       "      <td>TruthfulQA</td>\n",
       "      <td>100.0</td>\n",
       "    </tr>\n",
       "  </tbody>\n",
       "</table>\n",
       "</div>"
      ],
      "text/plain": [
       "   Model          Fine-Tuned     Dataset  Accuracy Rate %\n",
       "2  LLaMA  Before Fine-Tuning  TruthfulQA             90.6\n",
       "3  LLaMA   After Fine-Tuning  TruthfulQA            100.0"
      ]
     },
     "execution_count": 92,
     "metadata": {},
     "output_type": "execute_result"
    }
   ],
   "source": [
    "df_finetuned_llama_TruthfulQA"
   ]
  },
  {
   "cell_type": "code",
   "execution_count": 96,
   "id": "e8f754d6-4e8b-48aa-a91e-8cc515695ccd",
   "metadata": {},
   "outputs": [
    {
     "data": {
      "image/png": "[encoded data removed]",
      "text/plain": [
       "<Figure size 640x480 with 1 Axes>"
      ]
     },
     "metadata": {},
     "output_type": "display_data"
    }
   ],
   "source": [
    "#Barchart for truthful\n",
    "#'darkseagreen'\n",
    "#'royalblue'\n",
    "#'peachpuff'\n",
    "#colors_t = ['darkseagreen', 'royalblue', 'peachpuff']\n",
    "\n",
    "st1 = \"Accuracy Rate %\"\n",
    "# Create the bar chart\n",
    "sns.barplot(x='Fine-Tuned', y=st1, hue = st1, data=df_finetuned_llama_TruthfulQA, palette = 'flare')\n",
    "\n",
    "# Add title and labels\n",
    "plt.title('FEVER LLaMA 3.1 Accuracy Rates Before and After Fine-Tuning')\n",
    "plt.xlabel('Fine-Tuning Status')\n",
    "plt.ylabel('Accuracy Rate')\n",
    "\n",
    "# Save the plot as a PNG image\n",
    "plt.savefig('Fine Tuned LLaMA TruthfulQA.png')\n",
    "\n",
    "# Show the plot\n",
    "\n",
    "plt.show()"
   ]
  }
 ],
 "metadata": {
  "kernelspec": {
   "display_name": "Python 3 (ipykernel)",
   "language": "python",
   "name": "python3"
  },
  "language_info": {
   "codemirror_mode": {
    "name": "ipython",
    "version": 3
   },
   "file_extension": ".py",
   "mimetype": "text/x-python",
   "name": "python",
   "nbconvert_exporter": "python",
   "pygments_lexer": "ipython3",
   "version": "3.12.5"
  }
 },
 "nbformat": 4,
 "nbformat_minor": 5
}
